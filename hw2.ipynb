{
 "cells": [
  {
   "cell_type": "code",
   "execution_count": 1,
   "metadata": {},
   "outputs": [
    {
     "name": "stderr",
     "output_type": "stream",
     "text": [
      "Using TensorFlow backend.\n"
     ]
    },
    {
     "name": "stdout",
     "output_type": "stream",
     "text": [
      "Default format: channels_last\n",
      "Current format: channels_first\n"
     ]
    }
   ],
   "source": [
    "# The modules we're going to use\n",
    "from keras.utils import np_utils\n",
    "from keras.models import Sequential\n",
    "from keras.layers import Dense, Activation, pooling, Flatten, Dropout\n",
    "from keras.layers.convolutional import Conv2D, MaxPooling2D\n",
    "from keras.optimizers import Adam\n",
    "from keras import callbacks\n",
    "\n",
    "import numpy as np\n",
    "np.random.seed(1337)\n",
    "import matplotlib.pyplot as plt\n",
    "\n",
    "import csv\n",
    "\n",
    "# When you execute a code to plot with a simple SHIFT-ENTER, the plot will be shown directly under the code cell\n",
    "%matplotlib inline\n",
    "\n",
    "# Set backend data format\n",
    "from keras import backend as K\n",
    "print('Default format:', K.image_data_format())\n",
    "K.set_image_data_format('channels_first')\n",
    "print('Current format:', K.image_data_format())\n"
   ]
  },
  {
   "cell_type": "code",
   "execution_count": 2,
   "metadata": {
    "collapsed": true
   },
   "outputs": [],
   "source": [
    "# functions to load/save data\n",
    "def load_data(file_name):\n",
    "    data = []\n",
    "    with open(file_name) as csvfile:\n",
    "        reader = csv.reader(csvfile, delimiter=',')\n",
    "        for row in reader:\n",
    "            data.append([int(x) for x in row])\n",
    "    return data\n",
    "    \n",
    "def load_feature(file_name):\n",
    "    return np.array(load_data(file_name), 'float32')/255\n",
    "\n",
    "def load_target(file_name):\n",
    "    targets = load_data(file_name)\n",
    "    # class should start from 0\n",
    "    num_classes = np.max(targets) + 1\n",
    "    return np_utils.to_categorical(targets, num_classes)\n",
    "\n",
    "def save_result(result, file_name='test_target.csv'):\n",
    "    with open(file_name, 'w') as csvfile:\n",
    "        writer = csv.writer(csvfile, delimiter=',')\n",
    "        writer.writerow(['Id', 'Category']) # Header\n",
    "        for i in range(len(result)): # Targets\n",
    "            writer.writerow([i, result[i]])\n",
    "\n",
    "    "
   ]
  },
  {
   "cell_type": "code",
   "execution_count": 3,
   "metadata": {
    "scrolled": true
   },
   "outputs": [
    {
     "name": "stdout",
     "output_type": "stream",
     "text": [
      "Before pre-processing, X_train size:  (16175, 2304)\n",
      "After pre-processing, X_train size:  (16175, 1, 48, 48)\n"
     ]
    }
   ],
   "source": [
    "# Load data\n",
    "file_X = 'data/train_data.csv'\n",
    "file_y = 'data/train_target.csv'\n",
    "X = load_feature(file_X)\n",
    "y = load_target(file_y)\n",
    "\n",
    "# Pre-processing\n",
    "print('Before pre-processing, X_train size: ', X.shape)\n",
    "X = X.reshape(-1, 1, 48, 48)\n",
    "print('After pre-processing, X_train size: ', X.shape)\n",
    "\n"
   ]
  },
  {
   "cell_type": "code",
   "execution_count": 10,
   "metadata": {
    "collapsed": true
   },
   "outputs": [],
   "source": [
    "# Model design\n",
    "def createModel():\n",
    "    # Define dropout rate\n",
    "    dprate = 0.5;\n",
    "\n",
    "    # Create a neural net\n",
    "    model = Sequential()\n",
    "    \n",
    "    # Convolutional layers\n",
    "    model.add(Conv2D(64, (3,3), strides=1, padding='same', activation='relu', input_shape=(1,48,48)))\n",
    "    model.add(Conv2D(64, (3,3), strides=1, padding='same', activation='relu'))\n",
    "    model.add(MaxPooling2D(pool_size=2, strides=2, padding='valid'))\n",
    "    \n",
    "    model.add(Conv2D(128, (3,3), strides=1, padding='same', activation='relu'))\n",
    "    model.add(Conv2D(128, (3,3), strides=1, padding='same', activation='relu'))\n",
    "    model.add(MaxPooling2D(pool_size=2, strides=2, padding='valid'))\n",
    "\n",
    "    model.add(Conv2D(256, (3,3), strides=1, padding='same', activation='relu'))\n",
    "    model.add(Conv2D(256, (3,3), strides=1, padding='same', activation='relu'))\n",
    "    model.add(MaxPooling2D(pool_size=2, strides=2, padding='valid'))\n",
    "\n",
    "    # Fully connected layer\n",
    "    model.add(Flatten())\n",
    "    model.add(Dense(1024, activation='relu'))\n",
    "    model.add(Dropout(dprate))\n",
    "    model.add(Dense(1024, activation='relu'))\n",
    "    model.add(Dropout(dprate))\n",
    "    model.add(Dense(3, activation='softmax'))\n",
    "    \n",
    "    # Specify an optimizer to use\n",
    "    adam = Adam(lr=0.0002, beta_1=0.9, beta_2=0.999, epsilon=1e-08, decay=0.0)\n",
    "\n",
    "    # Choose loss function, optimization method, and metrics (which results to display)\n",
    "    model.compile(\n",
    "        optimizer = adam,\n",
    "        loss='categorical_crossentropy',\n",
    "        metrics=['accuracy']\n",
    "    )\n",
    "\n",
    "    return model\n",
    "    "
   ]
  },
  {
   "cell_type": "code",
   "execution_count": 11,
   "metadata": {},
   "outputs": [
    {
     "name": "stdout",
     "output_type": "stream",
     "text": [
      "Epoch 1/8\n",
      "774s - loss: 1.0658 - acc: 0.4471\n",
      "Epoch 2/8\n",
      "755s - loss: 0.8456 - acc: 0.6130\n",
      "Epoch 3/8\n",
      "754s - loss: 0.6703 - acc: 0.7063\n",
      "Epoch 4/8\n",
      "753s - loss: 0.5880 - acc: 0.7532\n",
      "Epoch 5/8\n",
      "742s - loss: 0.5212 - acc: 0.7852\n",
      "Epoch 6/8\n",
      "711s - loss: 0.4616 - acc: 0.8127\n",
      "Epoch 7/8\n",
      "709s - loss: 0.4068 - acc: 0.8391\n",
      "Epoch 8/8\n",
      "720s - loss: 0.3461 - acc: 0.8649\n"
     ]
    }
   ],
   "source": [
    "# Training\n",
    "model = createModel()\n",
    "# early_stop = callbacks.EarlyStopping(monitor='val_acc', patience=2, verbose=2)\n",
    "# history = model.fit(X,y,epochs=100,batch_size=32,validation_split=0.1, callbacks=[early_stop], verbose=2)\n",
    "history = model.fit(X,y,epochs=8,batch_size=32,verbose=2)\n"
   ]
  },
  {
   "cell_type": "code",
   "execution_count": null,
   "metadata": {
    "collapsed": true
   },
   "outputs": [],
   "source": []
  },
  {
   "cell_type": "code",
   "execution_count": null,
   "metadata": {
    "collapsed": true
   },
   "outputs": [],
   "source": []
  },
  {
   "cell_type": "code",
   "execution_count": 12,
   "metadata": {},
   "outputs": [
    {
     "name": "stdout",
     "output_type": "stream",
     "text": [
      "X predict size:  (3965, 1, 48, 48)\n"
     ]
    }
   ],
   "source": [
    "# load predicting data\n",
    "file_X_predict = 'data/test_data.csv'\n",
    "X_predict = load_feature(file_X_predict)\n",
    "\n",
    "# Pre-processing\n",
    "X_predict = X_predict.reshape(-1,1, 48,48)\n",
    "print('X predict size: ', X_predict.shape)"
   ]
  },
  {
   "cell_type": "code",
   "execution_count": 13,
   "metadata": {
    "collapsed": true
   },
   "outputs": [],
   "source": [
    "# Predicting\n",
    "y_predict = model.predict(X_predict)\n",
    "\n",
    "# convert probs to class\n",
    "y_result = [np.argmax(probs) for probs in y_predict]\n",
    "\n",
    "# Save predicting result to file\n",
    "save_result(y_result, 'data/test_target.csv')\n"
   ]
  },
  {
   "cell_type": "code",
   "execution_count": 8,
   "metadata": {},
   "outputs": [
    {
     "name": "stdout",
     "output_type": "stream",
     "text": [
      "Probs:  [ 0.02050454  0.86552608  0.11396942]\n",
      "Class:  1\n"
     ]
    },
    {
     "data": {
      "text/plain": [
       "[<matplotlib.lines.Line2D at 0x1048d9a90>]"
      ]
     },
     "execution_count": 8,
     "metadata": {},
     "output_type": "execute_result"
    },
    {
     "data": {
      "image/png": "[encoded data removed]",
      "text/plain": [
       "<matplotlib.figure.Figure at 0x112142cf8>"
      ]
     },
     "metadata": {},
     "output_type": "display_data"
    },
    {
     "data": {
      "image/png": "[encoded data removed]",
      "text/plain": [
       "<matplotlib.figure.Figure at 0x1122bcef0>"
      ]
     },
     "metadata": {},
     "output_type": "display_data"
    }
   ],
   "source": [
    "# Show the image of one predicting example\n",
    "index = np.random.randint(X_predict.shape[0],size=1)\n",
    "plt.imshow(X_predict[index[0],0,:,:],cmap='gray')\n",
    "\n",
    "# Get its prediction\n",
    "output = y_predict[index[0]]\n",
    "print(\"Probs: \", output)\n",
    "print(\"Class: \", y_result[index[0]])\n",
    "plt.figure()\n",
    "plt.xticks(np.arange(output.shape[0]))\n",
    "plt.plot(np.arange(output.shape[0]),output)\n"
   ]
  },
  {
   "cell_type": "code",
   "execution_count": null,
   "metadata": {
    "collapsed": true
   },
   "outputs": [],
   "source": []
  },
  {
   "cell_type": "code",
   "execution_count": null,
   "metadata": {
    "collapsed": true
   },
   "outputs": [],
   "source": []
  }
 ],
 "metadata": {
  "kernelspec": {
   "display_name": "Python 3",
   "language": "python",
   "name": "python3"
  },
  "language_info": {
   "codemirror_mode": {
    "name": "ipython",
    "version": 3
   },
   "file_extension": ".py",
   "mimetype": "text/x-python",
   "name": "python",
   "nbconvert_exporter": "python",
   "pygments_lexer": "ipython3",
   "version": "3.5.3"
  }
 },
 "nbformat": 4,
 "nbformat_minor": 2
}
