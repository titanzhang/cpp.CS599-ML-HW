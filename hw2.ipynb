{
 "cells": [
  {
   "cell_type": "code",
   "execution_count": 147,
   "metadata": {},
   "outputs": [
    {
     "name": "stdout",
     "output_type": "stream",
     "text": [
      "Default format: channels_first\n",
      "Current format: channels_first\n"
     ]
    }
   ],
   "source": [
    "# The modules we're going to use\n",
    "from keras.utils import np_utils\n",
    "from keras.models import Sequential\n",
    "from keras.layers import Dense, Activation, pooling, Flatten, Dropout\n",
    "from keras.layers.convolutional import Conv2D, MaxPooling2D\n",
    "from keras.optimizers import Adam\n",
    "from keras import callbacks\n",
    "\n",
    "import numpy as np\n",
    "np.random.seed(1337)\n",
    "import matplotlib.pyplot as plt\n",
    "\n",
    "import csv\n",
    "\n",
    "# When you execute a code to plot with a simple SHIFT-ENTER, the plot will be shown directly under the code cell\n",
    "%matplotlib inline\n",
    "\n",
    "# Set backend data format\n",
    "from keras import backend as K\n",
    "print('Default format:', K.image_data_format())\n",
    "K.set_image_data_format('channels_first')\n",
    "print('Current format:', K.image_data_format())\n"
   ]
  },
  {
   "cell_type": "code",
   "execution_count": 136,
   "metadata": {},
   "outputs": [],
   "source": [
    "# functions to load/save data\n",
    "def load_data(file_name):\n",
    "    data = []\n",
    "    with open(file_name) as csvfile:\n",
    "        reader = csv.reader(csvfile, delimiter=',')\n",
    "        for row in reader:\n",
    "            data.append([int(x) for x in row])\n",
    "    return data\n",
    "    \n",
    "def load_feature(file_name):\n",
    "    return np.array(load_data(file_name), 'float32')/255\n",
    "\n",
    "def load_target(file_name):\n",
    "    targets = load_data(file_name)\n",
    "    # class should start from 0\n",
    "    num_classes = np.max(targets) + 1\n",
    "    return np_utils.to_categorical(targets, num_classes)\n",
    "\n",
    "def save_result(result, file_name='test_target.csv'):\n",
    "    with open(file_name, 'w') as csvfile:\n",
    "        writer = csv.writer(csvfile, delimiter=',')\n",
    "        writer.writerow(['Id', 'Category']) # Header\n",
    "        for i in range(len(result)): # Targets\n",
    "            writer.writerow([i, result[i]])\n",
    "\n",
    "    "
   ]
  },
  {
   "cell_type": "code",
   "execution_count": 142,
   "metadata": {
    "scrolled": true
   },
   "outputs": [
    {
     "name": "stdout",
     "output_type": "stream",
     "text": [
      "Before pre-processing, X_train size:  (16175, 2304)\n",
      "After pre-processing, X_train size:  (16175, 1, 48, 48)\n"
     ]
    }
   ],
   "source": [
    "# Load data\n",
    "file_X = 'data/train_data.csv'\n",
    "file_y = 'data/train_target.csv'\n",
    "X = load_feature(file_X)\n",
    "y = load_target(file_y)\n",
    "\n",
    "# Pre-processing\n",
    "print('Before pre-processing, X_train size: ', X.shape)\n",
    "X = X.reshape(-1, 1, 48, 48)\n",
    "print('After pre-processing, X_train size: ', X.shape)\n",
    "\n"
   ]
  },
  {
   "cell_type": "code",
   "execution_count": 252,
   "metadata": {
    "collapsed": true
   },
   "outputs": [],
   "source": [
    "# Model design\n",
    "def model1():\n",
    "    # Define dropout rate\n",
    "    dprate = 0.5;\n",
    "\n",
    "    # Create a neural net\n",
    "    model = Sequential()\n",
    "    \n",
    "    # Convolutional layers\n",
    "    model.add(Conv2D(32, (3,3), strides=1, padding='same', activation='relu', input_shape=(1,48,48)))\n",
    "    model.add(Conv2D(32, (3,3), strides=1, padding='same', activation='relu', input_shape=(1,48,48)))\n",
    "    model.add(MaxPooling2D(pool_size=2, strides=2, padding='valid'))\n",
    "    \n",
    "    model.add(Conv2D(64, (3,3), strides=1, padding='same', activation='relu'))\n",
    "    model.add(Conv2D(64, (3,3), strides=1, padding='same', activation='relu'))\n",
    "    model.add(MaxPooling2D(pool_size=2, strides=2, padding='valid'))\n",
    "\n",
    "    model.add(Conv2D(128, (3,3), strides=1, padding='same', activation='relu'))\n",
    "    model.add(Conv2D(128, (3,3), strides=1, padding='same', activation='relu'))\n",
    "    model.add(MaxPooling2D(pool_size=2, strides=2, padding='valid'))\n",
    "\n",
    "    # Fully connected layer\n",
    "    model.add(Flatten())\n",
    "    model.add(Dense(1024, activation='relu'))\n",
    "    model.add(Dropout(dprate))\n",
    "    model.add(Dense(1024, activation='relu'))\n",
    "    model.add(Dropout(dprate))\n",
    "    model.add(Dense(3, activation='softmax'))\n",
    "    \n",
    "    # Specify an optimizer to use\n",
    "    adam = Adam(lr=0.0005, beta_1=0.9, beta_2=0.999, epsilon=1e-08, decay=0.0)\n",
    "\n",
    "    # Choose loss function, optimization method, and metrics (which results to display)\n",
    "    model.compile(\n",
    "        optimizer = adam,\n",
    "        loss='categorical_crossentropy',\n",
    "        metrics=['accuracy']\n",
    "    )\n",
    "\n",
    "    return model\n",
    "    "
   ]
  },
  {
   "cell_type": "code",
   "execution_count": 253,
   "metadata": {},
   "outputs": [
    {
     "name": "stdout",
     "output_type": "stream",
     "text": [
      "Train on 14557 samples, validate on 1618 samples\n",
      "Epoch 1/9\n",
      "323s - loss: 1.0221 - acc: 0.4813 - val_loss: 0.8624 - val_acc: 0.6112\n",
      "Epoch 2/9\n",
      "320s - loss: 0.7840 - acc: 0.6532 - val_loss: 0.7162 - val_acc: 0.6780\n",
      "Epoch 3/9\n",
      "318s - loss: 0.6619 - acc: 0.7210 - val_loss: 0.6272 - val_acc: 0.7355\n",
      "Epoch 4/9\n",
      "317s - loss: 0.5896 - acc: 0.7491 - val_loss: 0.5807 - val_acc: 0.7503\n",
      "Epoch 5/9\n",
      "318s - loss: 0.5355 - acc: 0.7778 - val_loss: 0.5803 - val_acc: 0.7559\n",
      "Epoch 6/9\n",
      "318s - loss: 0.4803 - acc: 0.8027 - val_loss: 0.5546 - val_acc: 0.7633\n",
      "Epoch 7/9\n",
      "318s - loss: 0.4303 - acc: 0.8262 - val_loss: 0.5645 - val_acc: 0.7559\n",
      "Epoch 8/9\n",
      "317s - loss: 0.3666 - acc: 0.8575 - val_loss: 0.5737 - val_acc: 0.7633\n",
      "Epoch 9/9\n",
      "318s - loss: 0.3044 - acc: 0.8811 - val_loss: 0.6412 - val_acc: 0.7534\n"
     ]
    }
   ],
   "source": [
    "# Training\n",
    "model = model1()\n",
    "early_stop = callbacks.EarlyStopping(monitor='val_acc', patience=3, verbose=2)\n",
    "history = model.fit(X,y,epochs=100,batch_size=32,validation_split=0.2, callbacks=[early_stop], verbose=2)\n",
    "# history = model.fit(X,y,epochs=9,batch_size=32,validation_split=0.1, verbose=2)\n"
   ]
  },
  {
   "cell_type": "code",
   "execution_count": null,
   "metadata": {
    "collapsed": true
   },
   "outputs": [],
   "source": []
  },
  {
   "cell_type": "code",
   "execution_count": null,
   "metadata": {
    "collapsed": true
   },
   "outputs": [],
   "source": []
  },
  {
   "cell_type": "code",
   "execution_count": 203,
   "metadata": {},
   "outputs": [
    {
     "name": "stdout",
     "output_type": "stream",
     "text": [
      "X predict size:  (3965, 1, 48, 48)\n"
     ]
    }
   ],
   "source": [
    "# load predicting data\n",
    "file_X_predict = 'data/test_data.csv'\n",
    "X_predict = load_feature(file_X_predict)\n",
    "\n",
    "# Pre-processing\n",
    "X_predict = X_predict.reshape(-1,1, 48,48)\n",
    "print('X predict size: ', X_predict.shape)"
   ]
  },
  {
   "cell_type": "code",
   "execution_count": 204,
   "metadata": {},
   "outputs": [],
   "source": [
    "# Predicting\n",
    "y_predict = model.predict(X_predict)\n",
    "\n",
    "# convert probs to class\n",
    "y_result = [np.argmax(probs) for probs in y_predict]\n",
    "\n",
    "# Save predicting result to file\n",
    "save_result(y_result, 'data/test_target.csv')\n"
   ]
  },
  {
   "cell_type": "code",
   "execution_count": 224,
   "metadata": {},
   "outputs": [
    {
     "name": "stdout",
     "output_type": "stream",
     "text": [
      "Probs:  [ 0.53572398  0.00762029  0.4566558 ]\n",
      "Class:  0\n"
     ]
    },
    {
     "data": {
      "text/plain": [
       "[<matplotlib.lines.Line2D at 0x21b6a7e80>]"
      ]
     },
     "execution_count": 224,
     "metadata": {},
     "output_type": "execute_result"
    },
    {
     "data": {
      "image/png": "[encoded data removed]",
      "text/plain": [
       "<matplotlib.figure.Figure at 0x21b5e74e0>"
      ]
     },
     "metadata": {},
     "output_type": "display_data"
    },
    {
     "data": {
      "image/png": "[encoded data removed]",
      "text/plain": [
       "<matplotlib.figure.Figure at 0x21b5c9be0>"
      ]
     },
     "metadata": {},
     "output_type": "display_data"
    }
   ],
   "source": [
    "# Show the image of one predicting example\n",
    "index = np.random.randint(X_predict.shape[0],size=1)\n",
    "plt.imshow(X_predict[index[0],0,:,:],cmap='gray')\n",
    "\n",
    "# Get its prediction\n",
    "output = y_predict[index[0]]\n",
    "print(\"Probs: \", output)\n",
    "print(\"Class: \", y_result[index[0]])\n",
    "plt.figure()\n",
    "plt.xticks(np.arange(output.shape[0]))\n",
    "plt.plot(np.arange(output.shape[0]),output)\n"
   ]
  },
  {
   "cell_type": "code",
   "execution_count": null,
   "metadata": {
    "collapsed": true
   },
   "outputs": [],
   "source": []
  },
  {
   "cell_type": "code",
   "execution_count": null,
   "metadata": {
    "collapsed": true
   },
   "outputs": [],
   "source": []
  }
 ],
 "metadata": {
  "kernelspec": {
   "display_name": "Python 3",
   "language": "python",
   "name": "python3"
  },
  "language_info": {
   "codemirror_mode": {
    "name": "ipython",
    "version": 3
   },
   "file_extension": ".py",
   "mimetype": "text/x-python",
   "name": "python",
   "nbconvert_exporter": "python",
   "pygments_lexer": "ipython3",
   "version": "3.5.3"
  }
 },
 "nbformat": 4,
 "nbformat_minor": 2
}
